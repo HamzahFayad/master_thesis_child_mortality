{
 "cells": [
  {
   "cell_type": "markdown",
   "metadata": {},
   "source": [
    "# Preprocessing"
   ]
  },
  {
   "cell_type": "code",
   "execution_count": 94,
   "metadata": {},
   "outputs": [],
   "source": [
    "import pandas as pd\n",
    "import matplotlib.pyplot as plt \n",
    "import seaborn as sns\n",
    "plt.style.use('ggplot')"
   ]
  },
  {
   "cell_type": "code",
   "execution_count": 95,
   "metadata": {},
   "outputs": [],
   "source": [
    "merged_df = pd.read_csv(\"../00_data/1_interim/merged_data.csv\", index_col=[\"Code\", \"Year\"])"
   ]
  },
  {
   "cell_type": "markdown",
   "metadata": {},
   "source": [
    "### Handle High Missing Values by Code (Country ID)"
   ]
  },
  {
   "cell_type": "code",
   "execution_count": 96,
   "metadata": {},
   "outputs": [
    {
     "name": "stdout",
     "output_type": "stream",
     "text": [
      "Top 12 Countries with most missing values:\n",
      "Code\n",
      "AIA         49\n",
      "MSR         48\n",
      "OWID_KOS    48\n",
      "COK         42\n",
      "NIU         42\n",
      "TCA         39\n",
      "VGB         38\n",
      "PRK         26\n",
      "SSD         26\n",
      "MCO         25\n",
      "GNQ         22\n",
      "VEN         21\n",
      "Name: total_missing, dtype: int64\n"
     ]
    }
   ],
   "source": [
    "# Missing Values by Country ID (Code)\n",
    "all_missing_values = merged_df.isnull().groupby(level=0).sum()\n",
    "all_missing_values[\"total_missing\"] = all_missing_values.sum(axis=1)\n",
    "all_missing_values[\"total_missing_%\"] = round( ( all_missing_values[\"total_missing\"] / 54 ) * 100, 2)\n",
    "#plot top 12 countries with most missing values\n",
    "top_missing_countries = all_missing_values.sort_values(ascending=False, by=\"total_missing\")\n",
    "top_12_missing = top_missing_countries[\"total_missing\"].head(12)\n",
    "print(f\"Top 12 Countries with most missing values:\\n{top_12_missing}\")\n",
    "#Threshold 50%: all countries with missing values over 50% get excluded from Dataframe\n",
    "# 9 x 6 = 54 data point for each country --> 27 NaNs as upper limit: \n",
    "# AIA       49 (Anguilla)\n",
    "# MSR       48 (Montserrat)\n",
    "# OWID_KOS  48 (Kosovo)\n",
    "# COK       42 (Cook Islands)\n",
    "# NIU       42 (Niue)\n",
    "# TCA       39 (Turks and Caicos Islands)\n",
    "# VGB       38 (British Virgin Islands)"
   ]
  },
  {
   "cell_type": "code",
   "execution_count": 97,
   "metadata": {},
   "outputs": [
    {
     "data": {
      "text/plain": [
       "np.int64(967)"
      ]
     },
     "execution_count": 97,
     "metadata": {},
     "output_type": "execute_result"
    }
   ],
   "source": [
    "# Exclude high missing values countries (threshold >= 50%) & save as new df\n",
    "# new filtered version has now 967 missing values (306 less than before)\n",
    "exclude_countries = top_missing_countries[top_missing_countries[\"total_missing_%\"] >= 50]\n",
    "filtered_df = merged_df[~merged_df.index.get_level_values(0).isin(exclude_countries.index.tolist())].copy()\n",
    "filtered_df.to_csv('../00_data/1_interim/filtered_data_01.csv', index=True)\n",
    "filtered_df.isna().sum().sum()"
   ]
  },
  {
   "cell_type": "markdown",
   "metadata": {},
   "source": [
    "### Handle Missing Values for \"vaccination_coverage_who_unicef\""
   ]
  },
  {
   "cell_type": "code",
   "execution_count": 98,
   "metadata": {},
   "outputs": [
    {
     "data": {
      "text/plain": [
       "Entity                                        0\n",
       "child_mortality_igme                          0\n",
       "annual_healthcare_expenditure_per_capita     16\n",
       "gdp_per_capita_worldbank                     42\n",
       "nurses_and_midwives_per_1000_people         300\n",
       "physicians_per_1000_people                  405\n",
       "prevalence_of_undernourishment              156\n",
       "share_of_population_urban                     0\n",
       "share_without_improved_water                 16\n",
       "vaccination_coverage_who_unicef               6\n",
       "years_of_schooling                           26\n",
       "dtype: int64"
      ]
     },
     "execution_count": 98,
     "metadata": {},
     "output_type": "execute_result"
    }
   ],
   "source": [
    "filtered_df.isna().sum()"
   ]
  },
  {
   "cell_type": "code",
   "execution_count": 99,
   "metadata": {},
   "outputs": [
    {
     "data": {
      "text/html": [
       "<div>\n",
       "<style scoped>\n",
       "    .dataframe tbody tr th:only-of-type {\n",
       "        vertical-align: middle;\n",
       "    }\n",
       "\n",
       "    .dataframe tbody tr th {\n",
       "        vertical-align: top;\n",
       "    }\n",
       "\n",
       "    .dataframe thead th {\n",
       "        text-align: right;\n",
       "    }\n",
       "</style>\n",
       "<table border=\"1\" class=\"dataframe\">\n",
       "  <thead>\n",
       "    <tr style=\"text-align: right;\">\n",
       "      <th></th>\n",
       "      <th></th>\n",
       "      <th>vaccination_coverage_who_unicef</th>\n",
       "    </tr>\n",
       "    <tr>\n",
       "      <th>Code</th>\n",
       "      <th>Year</th>\n",
       "      <th></th>\n",
       "    </tr>\n",
       "  </thead>\n",
       "  <tbody>\n",
       "    <tr>\n",
       "      <th rowspan=\"6\" valign=\"top\">NIC</th>\n",
       "      <th>2013</th>\n",
       "      <td>NaN</td>\n",
       "    </tr>\n",
       "    <tr>\n",
       "      <th>2014</th>\n",
       "      <td>NaN</td>\n",
       "    </tr>\n",
       "    <tr>\n",
       "      <th>2015</th>\n",
       "      <td>NaN</td>\n",
       "    </tr>\n",
       "    <tr>\n",
       "      <th>2016</th>\n",
       "      <td>NaN</td>\n",
       "    </tr>\n",
       "    <tr>\n",
       "      <th>2017</th>\n",
       "      <td>NaN</td>\n",
       "    </tr>\n",
       "    <tr>\n",
       "      <th>2018</th>\n",
       "      <td>NaN</td>\n",
       "    </tr>\n",
       "  </tbody>\n",
       "</table>\n",
       "</div>"
      ],
      "text/plain": [
       "           vaccination_coverage_who_unicef\n",
       "Code Year                                 \n",
       "NIC  2013                              NaN\n",
       "     2014                              NaN\n",
       "     2015                              NaN\n",
       "     2016                              NaN\n",
       "     2017                              NaN\n",
       "     2018                              NaN"
      ]
     },
     "execution_count": 99,
     "metadata": {},
     "output_type": "execute_result"
    }
   ],
   "source": [
    "#vaccination_coverage_who_unicef (3 doses diphtheria, tetanus and pertussis vaccine) has only 6 missing values for country NIC (Nicaragua)\n",
    "filtered_df.loc[filtered_df[\"vaccination_coverage_who_unicef\"].isnull(), [\"vaccination_coverage_who_unicef\"]]"
   ]
  },
  {
   "cell_type": "code",
   "execution_count": 110,
   "metadata": {},
   "outputs": [],
   "source": [
    "# OWID has data from WHO, but WUENIC data source does not exist for Nicaragua\n",
    "# Source: WHO immunizationdata, https://immunizationdata.who.int/dashboard/regions/region-of-the-americas/NIC (Zugriff am: 27.10.2025)\n",
    "# Use worldbank countries groups (7 different groups) & imputate vaccination values for \"NIC\" by median of its countrys group\n",
    "world_regions = pd.read_csv(\"../00_data/1_interim/world-regions-worldbank.csv\")\n",
    "country_groups = world_regions.loc[:, [\"Code\", \"World regions according to WB\"]]\n",
    "\n",
    "new_col_group = filtered_df.copy()\n",
    "new_col_group = new_col_group.reset_index()\n",
    "new_col_group = new_col_group.merge(country_groups, on=['Code'], how=\"left\")\n",
    "new_col_group =  new_col_group.set_index([\"Code\", \"Year\"])"
   ]
  },
  {
   "cell_type": "code",
   "execution_count": 111,
   "metadata": {},
   "outputs": [
    {
     "data": {
      "text/plain": [
       "World regions according to WB\n",
       "East Asia and Pacific (WB)                                  92.0\n",
       "Europe and Central Asia (WB)                                95.5\n",
       "Latin America and Caribbean (WB)                            92.0\n",
       "Middle East, North Africa, Afghanistan and Pakistan (WB)    97.0\n",
       "North America (WB)                                          92.5\n",
       "South Asia (WB)                                             98.0\n",
       "Sub-Saharan Africa (WB)                                     85.0\n",
       "Name: vaccination_coverage_who_unicef, dtype: float64"
      ]
     },
     "execution_count": 111,
     "metadata": {},
     "output_type": "execute_result"
    }
   ],
   "source": [
    "# Nicaragua (NIC) belongs to world region group: \"Latin America and Caribbean (WB)\"\n",
    "# Calculate median of column vaccination_coverage for \"Latin America and Caribbean (WB)\"\n",
    "# set value to missing values for Nicaragua (NIC)\n",
    "\n",
    "#latin_caribbean = new_col_group.loc[new_col_group[\"World regions according to WB\"] == \"Latin America and Caribbean (WB)\"]\n",
    "#latin_caribbean.head()\n",
    "latin_caribbean = new_col_group.groupby([\"World regions according to WB\"])[\"vaccination_coverage_who_unicef\"].median()\n",
    "latin_caribbean"
   ]
  },
  {
   "cell_type": "code",
   "execution_count": 112,
   "metadata": {},
   "outputs": [],
   "source": [
    "#new_col_group.loc[new_col_group[\"Entity\"] == \"Nicaragua\", \"vaccination_coverage_who_unicef\"] = 92.0"
   ]
  },
  {
   "cell_type": "code",
   "execution_count": 113,
   "metadata": {},
   "outputs": [],
   "source": [
    "filtered_df.loc[filtered_df[\"Entity\"] == \"Nicaragua\", \"vaccination_coverage_who_unicef\"] = 92.0"
   ]
  },
  {
   "cell_type": "code",
   "execution_count": 114,
   "metadata": {},
   "outputs": [
    {
     "data": {
      "text/plain": [
       "Entity                                        0\n",
       "child_mortality_igme                          0\n",
       "annual_healthcare_expenditure_per_capita     16\n",
       "gdp_per_capita_worldbank                     42\n",
       "nurses_and_midwives_per_1000_people         300\n",
       "physicians_per_1000_people                  405\n",
       "prevalence_of_undernourishment              156\n",
       "share_of_population_urban                     0\n",
       "share_without_improved_water                 16\n",
       "vaccination_coverage_who_unicef               0\n",
       "years_of_schooling                           26\n",
       "dtype: int64"
      ]
     },
     "execution_count": 114,
     "metadata": {},
     "output_type": "execute_result"
    }
   ],
   "source": [
    "filtered_df.isna().sum()"
   ]
  },
  {
   "cell_type": "code",
   "execution_count": 118,
   "metadata": {},
   "outputs": [
    {
     "data": {
      "text/html": [
       "<div>\n",
       "<style scoped>\n",
       "    .dataframe tbody tr th:only-of-type {\n",
       "        vertical-align: middle;\n",
       "    }\n",
       "\n",
       "    .dataframe tbody tr th {\n",
       "        vertical-align: top;\n",
       "    }\n",
       "\n",
       "    .dataframe thead th {\n",
       "        text-align: right;\n",
       "    }\n",
       "</style>\n",
       "<table border=\"1\" class=\"dataframe\">\n",
       "  <thead>\n",
       "    <tr style=\"text-align: right;\">\n",
       "      <th></th>\n",
       "      <th></th>\n",
       "      <th>Entity</th>\n",
       "      <th>child_mortality_igme</th>\n",
       "      <th>annual_healthcare_expenditure_per_capita</th>\n",
       "      <th>gdp_per_capita_worldbank</th>\n",
       "      <th>nurses_and_midwives_per_1000_people</th>\n",
       "      <th>physicians_per_1000_people</th>\n",
       "      <th>prevalence_of_undernourishment</th>\n",
       "      <th>share_of_population_urban</th>\n",
       "      <th>share_without_improved_water</th>\n",
       "      <th>vaccination_coverage_who_unicef</th>\n",
       "      <th>years_of_schooling</th>\n",
       "    </tr>\n",
       "    <tr>\n",
       "      <th>Code</th>\n",
       "      <th>Year</th>\n",
       "      <th></th>\n",
       "      <th></th>\n",
       "      <th></th>\n",
       "      <th></th>\n",
       "      <th></th>\n",
       "      <th></th>\n",
       "      <th></th>\n",
       "      <th></th>\n",
       "      <th></th>\n",
       "      <th></th>\n",
       "      <th></th>\n",
       "    </tr>\n",
       "  </thead>\n",
       "  <tbody>\n",
       "    <tr>\n",
       "      <th rowspan=\"6\" valign=\"top\">NIC</th>\n",
       "      <th>2013</th>\n",
       "      <td>Nicaragua</td>\n",
       "      <td>20.337691</td>\n",
       "      <td>356.79343</td>\n",
       "      <td>6494.1494</td>\n",
       "      <td>1.347</td>\n",
       "      <td>0.890</td>\n",
       "      <td>19.3</td>\n",
       "      <td>57.505</td>\n",
       "      <td>17.447060</td>\n",
       "      <td>92.0</td>\n",
       "      <td>8.581959</td>\n",
       "    </tr>\n",
       "    <tr>\n",
       "      <th>2014</th>\n",
       "      <td>Nicaragua</td>\n",
       "      <td>19.446352</td>\n",
       "      <td>399.16168</td>\n",
       "      <td>6712.2173</td>\n",
       "      <td>1.341</td>\n",
       "      <td>0.885</td>\n",
       "      <td>19.8</td>\n",
       "      <td>57.700</td>\n",
       "      <td>17.334541</td>\n",
       "      <td>92.0</td>\n",
       "      <td>8.781239</td>\n",
       "    </tr>\n",
       "    <tr>\n",
       "      <th>2015</th>\n",
       "      <td>Nicaragua</td>\n",
       "      <td>18.606286</td>\n",
       "      <td>426.61290</td>\n",
       "      <td>6939.0327</td>\n",
       "      <td>1.350</td>\n",
       "      <td>0.920</td>\n",
       "      <td>19.3</td>\n",
       "      <td>57.895</td>\n",
       "      <td>17.220947</td>\n",
       "      <td>92.0</td>\n",
       "      <td>8.980518</td>\n",
       "    </tr>\n",
       "    <tr>\n",
       "      <th>2016</th>\n",
       "      <td>Nicaragua</td>\n",
       "      <td>17.805850</td>\n",
       "      <td>463.54483</td>\n",
       "      <td>7158.7580</td>\n",
       "      <td>1.447</td>\n",
       "      <td>0.941</td>\n",
       "      <td>18.3</td>\n",
       "      <td>58.090</td>\n",
       "      <td>17.106255</td>\n",
       "      <td>92.0</td>\n",
       "      <td>9.135801</td>\n",
       "    </tr>\n",
       "    <tr>\n",
       "      <th>2017</th>\n",
       "      <td>Nicaragua</td>\n",
       "      <td>17.066324</td>\n",
       "      <td>505.41940</td>\n",
       "      <td>7391.1970</td>\n",
       "      <td>1.530</td>\n",
       "      <td>0.975</td>\n",
       "      <td>17.6</td>\n",
       "      <td>58.299</td>\n",
       "      <td>17.033340</td>\n",
       "      <td>92.0</td>\n",
       "      <td>9.291083</td>\n",
       "    </tr>\n",
       "    <tr>\n",
       "      <th>2018</th>\n",
       "      <td>Nicaragua</td>\n",
       "      <td>16.364048</td>\n",
       "      <td>503.79822</td>\n",
       "      <td>7049.0273</td>\n",
       "      <td>NaN</td>\n",
       "      <td>0.664</td>\n",
       "      <td>17.6</td>\n",
       "      <td>58.522</td>\n",
       "      <td>16.955544</td>\n",
       "      <td>92.0</td>\n",
       "      <td>9.446366</td>\n",
       "    </tr>\n",
       "  </tbody>\n",
       "</table>\n",
       "</div>"
      ],
      "text/plain": [
       "              Entity  child_mortality_igme  \\\n",
       "Code Year                                    \n",
       "NIC  2013  Nicaragua             20.337691   \n",
       "     2014  Nicaragua             19.446352   \n",
       "     2015  Nicaragua             18.606286   \n",
       "     2016  Nicaragua             17.805850   \n",
       "     2017  Nicaragua             17.066324   \n",
       "     2018  Nicaragua             16.364048   \n",
       "\n",
       "           annual_healthcare_expenditure_per_capita  gdp_per_capita_worldbank  \\\n",
       "Code Year                                                                       \n",
       "NIC  2013                                 356.79343                 6494.1494   \n",
       "     2014                                 399.16168                 6712.2173   \n",
       "     2015                                 426.61290                 6939.0327   \n",
       "     2016                                 463.54483                 7158.7580   \n",
       "     2017                                 505.41940                 7391.1970   \n",
       "     2018                                 503.79822                 7049.0273   \n",
       "\n",
       "           nurses_and_midwives_per_1000_people  physicians_per_1000_people  \\\n",
       "Code Year                                                                    \n",
       "NIC  2013                                1.347                       0.890   \n",
       "     2014                                1.341                       0.885   \n",
       "     2015                                1.350                       0.920   \n",
       "     2016                                1.447                       0.941   \n",
       "     2017                                1.530                       0.975   \n",
       "     2018                                  NaN                       0.664   \n",
       "\n",
       "           prevalence_of_undernourishment  share_of_population_urban  \\\n",
       "Code Year                                                              \n",
       "NIC  2013                            19.3                     57.505   \n",
       "     2014                            19.8                     57.700   \n",
       "     2015                            19.3                     57.895   \n",
       "     2016                            18.3                     58.090   \n",
       "     2017                            17.6                     58.299   \n",
       "     2018                            17.6                     58.522   \n",
       "\n",
       "           share_without_improved_water  vaccination_coverage_who_unicef  \\\n",
       "Code Year                                                                  \n",
       "NIC  2013                     17.447060                             92.0   \n",
       "     2014                     17.334541                             92.0   \n",
       "     2015                     17.220947                             92.0   \n",
       "     2016                     17.106255                             92.0   \n",
       "     2017                     17.033340                             92.0   \n",
       "     2018                     16.955544                             92.0   \n",
       "\n",
       "           years_of_schooling  \n",
       "Code Year                      \n",
       "NIC  2013            8.581959  \n",
       "     2014            8.781239  \n",
       "     2015            8.980518  \n",
       "     2016            9.135801  \n",
       "     2017            9.291083  \n",
       "     2018            9.446366  "
      ]
     },
     "execution_count": 118,
     "metadata": {},
     "output_type": "execute_result"
    }
   ],
   "source": [
    "filtered_df.loc[filtered_df[\"Entity\"] == \"Nicaragua\"]"
   ]
  },
  {
   "cell_type": "code",
   "execution_count": 117,
   "metadata": {},
   "outputs": [],
   "source": [
    "# leave world groups with One Hot Encoding? \n",
    "#new_col_group.head(2)"
   ]
  },
  {
   "cell_type": "code",
   "execution_count": null,
   "metadata": {},
   "outputs": [],
   "source": []
  }
 ],
 "metadata": {
  "kernelspec": {
   "display_name": "Python (masterthesis_venv)",
   "language": "python",
   "name": "masterthesis_venv"
  },
  "language_info": {
   "codemirror_mode": {
    "name": "ipython",
    "version": 3
   },
   "file_extension": ".py",
   "mimetype": "text/x-python",
   "name": "python",
   "nbconvert_exporter": "python",
   "pygments_lexer": "ipython3",
   "version": "3.11.0"
  }
 },
 "nbformat": 4,
 "nbformat_minor": 4
}
