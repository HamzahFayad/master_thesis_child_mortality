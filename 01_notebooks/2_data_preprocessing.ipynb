{
 "cells": [
  {
   "cell_type": "markdown",
   "metadata": {},
   "source": [
    "# Preprocessing"
   ]
  },
  {
   "cell_type": "code",
   "execution_count": 2,
   "metadata": {},
   "outputs": [],
   "source": [
    "import pandas as pd\n",
    "import matplotlib.pyplot as plt \n",
    "import seaborn as sns\n",
    "plt.style.use('ggplot')"
   ]
  },
  {
   "cell_type": "code",
   "execution_count": 3,
   "metadata": {},
   "outputs": [],
   "source": [
    "merged_df = pd.read_csv(\"../00_data/1_interim/merged_data.csv\", index_col=[\"Code\", \"Year\"])"
   ]
  },
  {
   "cell_type": "markdown",
   "metadata": {},
   "source": [
    "### Handle High Missing Values by Code (Country ID) - Part 1"
   ]
  },
  {
   "cell_type": "code",
   "execution_count": 4,
   "metadata": {},
   "outputs": [
    {
     "name": "stdout",
     "output_type": "stream",
     "text": [
      "Top 12 Countries with most missing values:\n",
      "Code\n",
      "AIA         49\n",
      "MSR         48\n",
      "OWID_KOS    48\n",
      "COK         42\n",
      "NIU         42\n",
      "TCA         39\n",
      "VGB         38\n",
      "PRK         26\n",
      "SSD         26\n",
      "MCO         25\n",
      "GNQ         22\n",
      "VEN         21\n",
      "Name: total_missing, dtype: int64\n"
     ]
    }
   ],
   "source": [
    "# Missing Values by Country ID (Code)\n",
    "all_missing_values = merged_df.isnull().groupby(level=0).sum()\n",
    "all_missing_values[\"total_missing\"] = all_missing_values.sum(axis=1)\n",
    "all_missing_values[\"total_missing_%\"] = round( ( all_missing_values[\"total_missing\"] / 54 ) * 100, 2)\n",
    "#plot top 12 countries with most missing values\n",
    "top_missing_countries = all_missing_values.sort_values(ascending=False, by=\"total_missing\")\n",
    "top_12_missing = top_missing_countries[\"total_missing\"].head(12)\n",
    "print(f\"Top 12 Countries with most missing values:\\n{top_12_missing}\")\n",
    "#Threshold 50%: all countries with missing values over 50% get excluded from Dataframe\n",
    "# 9 x 6 = 54 data point for each country --> 27 NaNs as upper limit: \n",
    "# AIA       49 (Anguilla)\n",
    "# MSR       48 (Montserrat)\n",
    "# OWID_KOS  48 (Kosovo)\n",
    "# COK       42 (Cook Islands)\n",
    "# NIU       42 (Niue)\n",
    "# TCA       39 (Turks and Caicos Islands)\n",
    "# VGB       38 (British Virgin Islands)"
   ]
  },
  {
   "cell_type": "code",
   "execution_count": 5,
   "metadata": {},
   "outputs": [
    {
     "data": {
      "text/plain": [
       "np.int64(967)"
      ]
     },
     "execution_count": 5,
     "metadata": {},
     "output_type": "execute_result"
    }
   ],
   "source": [
    "# Exclude high missing values countries (threshold >= 50%) & save as new df\n",
    "# new filtered version has now 967 missing values (306 less than before)\n",
    "exclude_countries = top_missing_countries[top_missing_countries[\"total_missing_%\"] >= 50]\n",
    "filtered_df = merged_df[~merged_df.index.get_level_values(0).isin(exclude_countries.index.tolist())].copy()\n",
    "filtered_df.to_csv('../00_data/1_interim/filtered_data_01.csv', index=True)\n",
    "filtered_df.isna().sum().sum()"
   ]
  }
 ],
 "metadata": {
  "kernelspec": {
   "display_name": "Python (masterthesis_venv)",
   "language": "python",
   "name": "masterthesis_venv"
  },
  "language_info": {
   "codemirror_mode": {
    "name": "ipython",
    "version": 3
   },
   "file_extension": ".py",
   "mimetype": "text/x-python",
   "name": "python",
   "nbconvert_exporter": "python",
   "pygments_lexer": "ipython3",
   "version": "3.11.0"
  }
 },
 "nbformat": 4,
 "nbformat_minor": 4
}
